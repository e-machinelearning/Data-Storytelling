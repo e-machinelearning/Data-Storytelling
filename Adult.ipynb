{
 "cells": [
  {
   "cell_type": "code",
   "execution_count": 1,
   "id": "e18afa4d",
   "metadata": {},
   "outputs": [],
   "source": [
    "import numpy as np \n",
    "import pandas as pd \n",
    "import matplotlib.pyplot as plt\n",
    "import seaborn as sns"
   ]
  },
  {
   "cell_type": "markdown",
   "id": "0a03056a",
   "metadata": {},
   "source": [
    "# Data Storytelling"
   ]
  },
  {
   "cell_type": "markdown",
   "id": "9e0ae1c3",
   "metadata": {},
   "source": [
    "We have a dataset that contains a range of adult incomes with each persons background information such as their education, occupation, and many more. We're going to explore some relationships between these variables and their overall effect on income. "
   ]
  },
  {
   "cell_type": "markdown",
   "id": "33cd9783",
   "metadata": {},
   "source": [
    "## Variables: \n",
    "\n",
    "- age: continuous.\n",
    "- workclass: Private, Self-emp-not-inc, Self-emp-inc, Federal-gov, Local-gov, State-gov, Without-pay, Never-worked.\n",
    "- fnlwgt: continuous.\n",
    "- education: Bachelors, Some-college, 11th, HS-grad, Prof-school, Assoc-acdm, Assoc-voc, 9th, 7th-8th, 12th, Masters, 1st-4th, 10th, Doctorate, 5th-6th, Preschool.\n",
    "- education-num: continuous.\n",
    "- marital-status: Married-civ-spouse, Divorced, Never-married, Separated, Widowed, Married-spouse-absent, Married-AF-spouse.\n",
    "- occupation: Tech-support, Craft-repair, Other-service, Sales, Exec-managerial, Prof-specialty, Handlers-cleaners, Machine-op-inspct, Adm-clerical, Farming-fishing, Transport-moving, Priv-house-serv, Protective-serv, Armed-Forces.\n",
    "- relationship: Wife, Own-child, Husband, Not-in-family, Other-relative, Unmarried.\n",
    "- race: White, Asian-Pac-Islander, Amer-Indian-Eskimo, Other, Black.\n",
    "- sex: Female, Male.\n",
    "- capital-gain: continuous.\n",
    "- capital-loss: continuous.\n",
    "- hours-per-week: continuous.\n",
    "- native-country: United-States, Cambodia, England, Puerto-Rico, Canada, Germany, Outlying-US(Guam-USVI-etc), India, Japan, Greece, South, China, Cuba, Iran, Honduras, Philippines, Italy, Poland, Jamaica, Vietnam, Mexico, Portugal, Ireland, France, Dominican-Republic, Laos, Ecuador, Taiwan, Haiti, Columbia, Hungary, Guatemala, Nicaragua, Scotland, Thailand, Yugoslavia, El-Salvador, Trinadad&Tobago, Peru, Hong, Holand-Netherlands.\n",
    "- class: >50K, <=50K"
   ]
  },
  {
   "cell_type": "code",
   "execution_count": 2,
   "id": "c463354b",
   "metadata": {},
   "outputs": [
    {
     "data": {
      "text/html": [
       "<div>\n",
       "<style scoped>\n",
       "    .dataframe tbody tr th:only-of-type {\n",
       "        vertical-align: middle;\n",
       "    }\n",
       "\n",
       "    .dataframe tbody tr th {\n",
       "        vertical-align: top;\n",
       "    }\n",
       "\n",
       "    .dataframe thead th {\n",
       "        text-align: right;\n",
       "    }\n",
       "</style>\n",
       "<table border=\"1\" class=\"dataframe\">\n",
       "  <thead>\n",
       "    <tr style=\"text-align: right;\">\n",
       "      <th></th>\n",
       "      <th>age</th>\n",
       "      <th>workclass</th>\n",
       "      <th>fnlwgt</th>\n",
       "      <th>education</th>\n",
       "      <th>educational-num</th>\n",
       "      <th>marital-status</th>\n",
       "      <th>occupation</th>\n",
       "      <th>relationship</th>\n",
       "      <th>race</th>\n",
       "      <th>gender</th>\n",
       "      <th>capital-gain</th>\n",
       "      <th>capital-loss</th>\n",
       "      <th>hours-per-week</th>\n",
       "      <th>native-country</th>\n",
       "      <th>income</th>\n",
       "    </tr>\n",
       "  </thead>\n",
       "  <tbody>\n",
       "    <tr>\n",
       "      <th>0</th>\n",
       "      <td>25</td>\n",
       "      <td>Private</td>\n",
       "      <td>226802</td>\n",
       "      <td>11th</td>\n",
       "      <td>7</td>\n",
       "      <td>Never-married</td>\n",
       "      <td>Machine-op-inspct</td>\n",
       "      <td>Own-child</td>\n",
       "      <td>Black</td>\n",
       "      <td>Male</td>\n",
       "      <td>0</td>\n",
       "      <td>0</td>\n",
       "      <td>40</td>\n",
       "      <td>United-States</td>\n",
       "      <td>&lt;=50K</td>\n",
       "    </tr>\n",
       "    <tr>\n",
       "      <th>1</th>\n",
       "      <td>38</td>\n",
       "      <td>Private</td>\n",
       "      <td>89814</td>\n",
       "      <td>HS-grad</td>\n",
       "      <td>9</td>\n",
       "      <td>Married-civ-spouse</td>\n",
       "      <td>Farming-fishing</td>\n",
       "      <td>Husband</td>\n",
       "      <td>White</td>\n",
       "      <td>Male</td>\n",
       "      <td>0</td>\n",
       "      <td>0</td>\n",
       "      <td>50</td>\n",
       "      <td>United-States</td>\n",
       "      <td>&lt;=50K</td>\n",
       "    </tr>\n",
       "    <tr>\n",
       "      <th>2</th>\n",
       "      <td>28</td>\n",
       "      <td>Local-gov</td>\n",
       "      <td>336951</td>\n",
       "      <td>Assoc-acdm</td>\n",
       "      <td>12</td>\n",
       "      <td>Married-civ-spouse</td>\n",
       "      <td>Protective-serv</td>\n",
       "      <td>Husband</td>\n",
       "      <td>White</td>\n",
       "      <td>Male</td>\n",
       "      <td>0</td>\n",
       "      <td>0</td>\n",
       "      <td>40</td>\n",
       "      <td>United-States</td>\n",
       "      <td>&gt;50K</td>\n",
       "    </tr>\n",
       "    <tr>\n",
       "      <th>3</th>\n",
       "      <td>44</td>\n",
       "      <td>Private</td>\n",
       "      <td>160323</td>\n",
       "      <td>Some-college</td>\n",
       "      <td>10</td>\n",
       "      <td>Married-civ-spouse</td>\n",
       "      <td>Machine-op-inspct</td>\n",
       "      <td>Husband</td>\n",
       "      <td>Black</td>\n",
       "      <td>Male</td>\n",
       "      <td>7688</td>\n",
       "      <td>0</td>\n",
       "      <td>40</td>\n",
       "      <td>United-States</td>\n",
       "      <td>&gt;50K</td>\n",
       "    </tr>\n",
       "    <tr>\n",
       "      <th>4</th>\n",
       "      <td>18</td>\n",
       "      <td>?</td>\n",
       "      <td>103497</td>\n",
       "      <td>Some-college</td>\n",
       "      <td>10</td>\n",
       "      <td>Never-married</td>\n",
       "      <td>?</td>\n",
       "      <td>Own-child</td>\n",
       "      <td>White</td>\n",
       "      <td>Female</td>\n",
       "      <td>0</td>\n",
       "      <td>0</td>\n",
       "      <td>30</td>\n",
       "      <td>United-States</td>\n",
       "      <td>&lt;=50K</td>\n",
       "    </tr>\n",
       "    <tr>\n",
       "      <th>...</th>\n",
       "      <td>...</td>\n",
       "      <td>...</td>\n",
       "      <td>...</td>\n",
       "      <td>...</td>\n",
       "      <td>...</td>\n",
       "      <td>...</td>\n",
       "      <td>...</td>\n",
       "      <td>...</td>\n",
       "      <td>...</td>\n",
       "      <td>...</td>\n",
       "      <td>...</td>\n",
       "      <td>...</td>\n",
       "      <td>...</td>\n",
       "      <td>...</td>\n",
       "      <td>...</td>\n",
       "    </tr>\n",
       "    <tr>\n",
       "      <th>48837</th>\n",
       "      <td>27</td>\n",
       "      <td>Private</td>\n",
       "      <td>257302</td>\n",
       "      <td>Assoc-acdm</td>\n",
       "      <td>12</td>\n",
       "      <td>Married-civ-spouse</td>\n",
       "      <td>Tech-support</td>\n",
       "      <td>Wife</td>\n",
       "      <td>White</td>\n",
       "      <td>Female</td>\n",
       "      <td>0</td>\n",
       "      <td>0</td>\n",
       "      <td>38</td>\n",
       "      <td>United-States</td>\n",
       "      <td>&lt;=50K</td>\n",
       "    </tr>\n",
       "    <tr>\n",
       "      <th>48838</th>\n",
       "      <td>40</td>\n",
       "      <td>Private</td>\n",
       "      <td>154374</td>\n",
       "      <td>HS-grad</td>\n",
       "      <td>9</td>\n",
       "      <td>Married-civ-spouse</td>\n",
       "      <td>Machine-op-inspct</td>\n",
       "      <td>Husband</td>\n",
       "      <td>White</td>\n",
       "      <td>Male</td>\n",
       "      <td>0</td>\n",
       "      <td>0</td>\n",
       "      <td>40</td>\n",
       "      <td>United-States</td>\n",
       "      <td>&gt;50K</td>\n",
       "    </tr>\n",
       "    <tr>\n",
       "      <th>48839</th>\n",
       "      <td>58</td>\n",
       "      <td>Private</td>\n",
       "      <td>151910</td>\n",
       "      <td>HS-grad</td>\n",
       "      <td>9</td>\n",
       "      <td>Widowed</td>\n",
       "      <td>Adm-clerical</td>\n",
       "      <td>Unmarried</td>\n",
       "      <td>White</td>\n",
       "      <td>Female</td>\n",
       "      <td>0</td>\n",
       "      <td>0</td>\n",
       "      <td>40</td>\n",
       "      <td>United-States</td>\n",
       "      <td>&lt;=50K</td>\n",
       "    </tr>\n",
       "    <tr>\n",
       "      <th>48840</th>\n",
       "      <td>22</td>\n",
       "      <td>Private</td>\n",
       "      <td>201490</td>\n",
       "      <td>HS-grad</td>\n",
       "      <td>9</td>\n",
       "      <td>Never-married</td>\n",
       "      <td>Adm-clerical</td>\n",
       "      <td>Own-child</td>\n",
       "      <td>White</td>\n",
       "      <td>Male</td>\n",
       "      <td>0</td>\n",
       "      <td>0</td>\n",
       "      <td>20</td>\n",
       "      <td>United-States</td>\n",
       "      <td>&lt;=50K</td>\n",
       "    </tr>\n",
       "    <tr>\n",
       "      <th>48841</th>\n",
       "      <td>52</td>\n",
       "      <td>Self-emp-inc</td>\n",
       "      <td>287927</td>\n",
       "      <td>HS-grad</td>\n",
       "      <td>9</td>\n",
       "      <td>Married-civ-spouse</td>\n",
       "      <td>Exec-managerial</td>\n",
       "      <td>Wife</td>\n",
       "      <td>White</td>\n",
       "      <td>Female</td>\n",
       "      <td>15024</td>\n",
       "      <td>0</td>\n",
       "      <td>40</td>\n",
       "      <td>United-States</td>\n",
       "      <td>&gt;50K</td>\n",
       "    </tr>\n",
       "  </tbody>\n",
       "</table>\n",
       "<p>48842 rows × 15 columns</p>\n",
       "</div>"
      ],
      "text/plain": [
       "       age     workclass  fnlwgt     education  educational-num  \\\n",
       "0       25       Private  226802          11th                7   \n",
       "1       38       Private   89814       HS-grad                9   \n",
       "2       28     Local-gov  336951    Assoc-acdm               12   \n",
       "3       44       Private  160323  Some-college               10   \n",
       "4       18             ?  103497  Some-college               10   \n",
       "...    ...           ...     ...           ...              ...   \n",
       "48837   27       Private  257302    Assoc-acdm               12   \n",
       "48838   40       Private  154374       HS-grad                9   \n",
       "48839   58       Private  151910       HS-grad                9   \n",
       "48840   22       Private  201490       HS-grad                9   \n",
       "48841   52  Self-emp-inc  287927       HS-grad                9   \n",
       "\n",
       "           marital-status         occupation relationship   race  gender  \\\n",
       "0           Never-married  Machine-op-inspct    Own-child  Black    Male   \n",
       "1      Married-civ-spouse    Farming-fishing      Husband  White    Male   \n",
       "2      Married-civ-spouse    Protective-serv      Husband  White    Male   \n",
       "3      Married-civ-spouse  Machine-op-inspct      Husband  Black    Male   \n",
       "4           Never-married                  ?    Own-child  White  Female   \n",
       "...                   ...                ...          ...    ...     ...   \n",
       "48837  Married-civ-spouse       Tech-support         Wife  White  Female   \n",
       "48838  Married-civ-spouse  Machine-op-inspct      Husband  White    Male   \n",
       "48839             Widowed       Adm-clerical    Unmarried  White  Female   \n",
       "48840       Never-married       Adm-clerical    Own-child  White    Male   \n",
       "48841  Married-civ-spouse    Exec-managerial         Wife  White  Female   \n",
       "\n",
       "       capital-gain  capital-loss  hours-per-week native-country income  \n",
       "0                 0             0              40  United-States  <=50K  \n",
       "1                 0             0              50  United-States  <=50K  \n",
       "2                 0             0              40  United-States   >50K  \n",
       "3              7688             0              40  United-States   >50K  \n",
       "4                 0             0              30  United-States  <=50K  \n",
       "...             ...           ...             ...            ...    ...  \n",
       "48837             0             0              38  United-States  <=50K  \n",
       "48838             0             0              40  United-States   >50K  \n",
       "48839             0             0              40  United-States  <=50K  \n",
       "48840             0             0              20  United-States  <=50K  \n",
       "48841         15024             0              40  United-States   >50K  \n",
       "\n",
       "[48842 rows x 15 columns]"
      ]
     },
     "execution_count": 2,
     "metadata": {},
     "output_type": "execute_result"
    }
   ],
   "source": [
    "adult = pd.read_csv(r'C:\\Users\\ebent\\OneDrive\\Documents\\GitHub\\dsc_v5\\Unit 20 - Data Storytelling\\adult.csv')\n",
    "adult"
   ]
  },
  {
   "cell_type": "code",
   "execution_count": 3,
   "id": "3e9b870e",
   "metadata": {},
   "outputs": [
    {
     "data": {
      "text/plain": [
       "age                0\n",
       "workclass          0\n",
       "fnlwgt             0\n",
       "education          0\n",
       "educational-num    0\n",
       "marital-status     0\n",
       "occupation         0\n",
       "relationship       0\n",
       "race               0\n",
       "gender             0\n",
       "capital-gain       0\n",
       "capital-loss       0\n",
       "hours-per-week     0\n",
       "native-country     0\n",
       "income             0\n",
       "dtype: int64"
      ]
     },
     "execution_count": 3,
     "metadata": {},
     "output_type": "execute_result"
    }
   ],
   "source": [
    "adult.isnull().sum()"
   ]
  },
  {
   "cell_type": "markdown",
   "id": "25ef3f2a",
   "metadata": {},
   "source": [
    "Although we don't see any missing variables I do see that there are a few \"?\" in the dataset that are being used in the dataset as a replacement for null values. Lets replace them with NaN values and see how many we truly have. "
   ]
  },
  {
   "cell_type": "code",
   "execution_count": 4,
   "id": "632c9fd0",
   "metadata": {},
   "outputs": [],
   "source": [
    "adult.replace('?', np.nan, inplace=True)"
   ]
  },
  {
   "cell_type": "code",
   "execution_count": 5,
   "id": "92865625",
   "metadata": {},
   "outputs": [
    {
     "data": {
      "text/plain": [
       "age                   0\n",
       "workclass          2799\n",
       "fnlwgt                0\n",
       "education             0\n",
       "educational-num       0\n",
       "marital-status        0\n",
       "occupation         2809\n",
       "relationship          0\n",
       "race                  0\n",
       "gender                0\n",
       "capital-gain          0\n",
       "capital-loss          0\n",
       "hours-per-week        0\n",
       "native-country      857\n",
       "income                0\n",
       "dtype: int64"
      ]
     },
     "execution_count": 5,
     "metadata": {},
     "output_type": "execute_result"
    }
   ],
   "source": [
    "adult.isnull().sum()"
   ]
  },
  {
   "cell_type": "markdown",
   "id": "0fbe8978",
   "metadata": {},
   "source": [
    "We're going to drop a few columns to make our data a little cleaner. Dropping the native-country, capital-gain, capital-loss, fnlwgt columns as these don't matter as much. Native country can and does have an effect but deciding and differentiating between each countries economic statuses and their effect on international workers in the U.S. is going to take more time and effort than we need for this project so it will be dropped. Most people don't really have a capital gain/loss as most people don't run their own businesses so it will also be dropped. And fnlwgt is a census related column that doesn't have anything to do with income so it will also be dropped. The educational-num column is just a number to represent the education but it is in the form of a continuous variable so we will keep that. "
   ]
  },
  {
   "cell_type": "code",
   "execution_count": 6,
   "id": "cebb0353",
   "metadata": {},
   "outputs": [],
   "source": [
    "adult.drop(columns=['native-country', 'capital-loss', 'capital-gain', 'fnlwgt'], inplace=True)"
   ]
  },
  {
   "cell_type": "markdown",
   "id": "6f29b894",
   "metadata": {},
   "source": [
    "Right now a lot of our data is cluttered. There's a lot of variables and some of them can get grouped up together. So next we are going to look at each value count for the columns and see if we can group them up together in some form of fashion. \n",
    "\n",
    "We also are going to fill some of our NaN values with just a vague variable called 'Other'. This can mean that the variable is missing, they don't have a variable to put, they have a variable to put but forgot. It's just a placeholder that can be a multitude of reasons as to why the variable isn't there. "
   ]
  },
  {
   "cell_type": "code",
   "execution_count": 7,
   "id": "18cf9cd1",
   "metadata": {
    "scrolled": true
   },
   "outputs": [
    {
     "data": {
      "text/plain": [
       "array(['11th', 'HS-grad', 'Assoc-acdm', 'Some-college', '10th',\n",
       "       'Prof-school', '7th-8th', 'Bachelors', 'Masters', 'Doctorate',\n",
       "       '5th-6th', 'Assoc-voc', '9th', '12th', '1st-4th', 'Preschool'],\n",
       "      dtype=object)"
      ]
     },
     "execution_count": 7,
     "metadata": {},
     "output_type": "execute_result"
    }
   ],
   "source": [
    "adult['education'].unique()"
   ]
  },
  {
   "cell_type": "code",
   "execution_count": 8,
   "id": "a17601e0",
   "metadata": {},
   "outputs": [],
   "source": [
    "adult['education'].replace(['Preschool','1st-4th','5th-6th','7th-8th','9th','10th','11th','12th','HS-grad'], 'HS or below', inplace=True)\n",
    "adult['education'].replace(['Some-college','Assoc-voc','Assoc-acdm'], 'Minimal College', inplace=True)\n",
    "adult['education'].replace(['Prof-school', 'Bachelors'], 'Bachelors/Prof', inplace=True)"
   ]
  },
  {
   "cell_type": "code",
   "execution_count": 9,
   "id": "8c4d45b4",
   "metadata": {},
   "outputs": [
    {
     "data": {
      "text/plain": [
       "HS or below        22192\n",
       "Minimal College    14540\n",
       "Bachelors/Prof      8859\n",
       "Masters             2657\n",
       "Doctorate            594\n",
       "Name: education, dtype: int64"
      ]
     },
     "execution_count": 9,
     "metadata": {},
     "output_type": "execute_result"
    }
   ],
   "source": [
    "adult['education'].value_counts()"
   ]
  },
  {
   "cell_type": "code",
   "execution_count": 10,
   "id": "dff5d97b",
   "metadata": {},
   "outputs": [
    {
     "data": {
      "text/plain": [
       "array(['Private', 'Local-gov', nan, 'Self-emp-not-inc', 'Federal-gov',\n",
       "       'State-gov', 'Self-emp-inc', 'Without-pay', 'Never-worked'],\n",
       "      dtype=object)"
      ]
     },
     "execution_count": 10,
     "metadata": {},
     "output_type": "execute_result"
    }
   ],
   "source": [
    "adult['workclass'].unique()"
   ]
  },
  {
   "cell_type": "code",
   "execution_count": 11,
   "id": "94b084b8",
   "metadata": {},
   "outputs": [],
   "source": [
    "adult['workclass'].replace(['Local-gov','Federal-gov','State-gov'], 'gov', inplace=True)\n",
    "adult['workclass'].replace(['Self-emp-not-inc','Self-emp-inc'], 'Self-emp', inplace=True)\n",
    "adult['workclass'].replace(['Without-pay', 'Never-worked'], 'Other', inplace=True)\n",
    "\n",
    "adult['workclass'].fillna('Other', inplace=True)"
   ]
  },
  {
   "cell_type": "code",
   "execution_count": 12,
   "id": "06af0736",
   "metadata": {},
   "outputs": [
    {
     "data": {
      "text/plain": [
       "Private     33906\n",
       "gov          6549\n",
       "Self-emp     5557\n",
       "Other        2830\n",
       "Name: workclass, dtype: int64"
      ]
     },
     "execution_count": 12,
     "metadata": {},
     "output_type": "execute_result"
    }
   ],
   "source": [
    "adult['workclass'].value_counts()"
   ]
  },
  {
   "cell_type": "code",
   "execution_count": 13,
   "id": "5bb615c1",
   "metadata": {
    "scrolled": true
   },
   "outputs": [
    {
     "data": {
      "text/plain": [
       "array(['Never-married', 'Married-civ-spouse', 'Widowed', 'Divorced',\n",
       "       'Separated', 'Married-spouse-absent', 'Married-AF-spouse'],\n",
       "      dtype=object)"
      ]
     },
     "execution_count": 13,
     "metadata": {},
     "output_type": "execute_result"
    }
   ],
   "source": [
    "adult['marital-status'].unique()"
   ]
  },
  {
   "cell_type": "code",
   "execution_count": 14,
   "id": "a6d8d6da",
   "metadata": {},
   "outputs": [],
   "source": [
    "adult['marital-status'].replace(['Married-spouse-absent','Married-AF-spouse'], 'Married-absent', inplace=True)\n",
    "adult['marital-status'].replace(['Never-married','Widowed'], 'Single', inplace=True)"
   ]
  },
  {
   "cell_type": "code",
   "execution_count": 15,
   "id": "6e826190",
   "metadata": {},
   "outputs": [
    {
     "data": {
      "text/plain": [
       "Married-civ-spouse    22379\n",
       "Single                17635\n",
       "Divorced               6633\n",
       "Separated              1530\n",
       "Married-absent          665\n",
       "Name: marital-status, dtype: int64"
      ]
     },
     "execution_count": 15,
     "metadata": {},
     "output_type": "execute_result"
    }
   ],
   "source": [
    "adult['marital-status'].value_counts()"
   ]
  },
  {
   "cell_type": "code",
   "execution_count": 16,
   "id": "1a6dc100",
   "metadata": {},
   "outputs": [
    {
     "name": "stdout",
     "output_type": "stream",
     "text": [
      "['Own-child' 'Husband' 'Not-in-family' 'Unmarried' 'Wife' 'Other-relative'] \n",
      "\n",
      "\n",
      "['Machine-op-inspct' 'Farming-fishing' 'Protective-serv' nan\n",
      " 'Other-service' 'Prof-specialty' 'Craft-repair' 'Adm-clerical'\n",
      " 'Exec-managerial' 'Tech-support' 'Sales' 'Priv-house-serv'\n",
      " 'Transport-moving' 'Handlers-cleaners' 'Armed-Forces'] \n",
      "\n",
      "\n",
      "['Black' 'White' 'Asian-Pac-Islander' 'Other' 'Amer-Indian-Eskimo'] \n",
      "\n",
      "\n",
      "['Male' 'Female'] \n",
      "\n",
      "\n"
     ]
    }
   ],
   "source": [
    "print(adult['relationship'].unique(), '\\n\\n')\n",
    "print(adult['occupation'].unique(), '\\n\\n')\n",
    "print(adult['race'].unique(), '\\n\\n')\n",
    "print(adult['gender'].unique(), '\\n\\n')\n"
   ]
  },
  {
   "cell_type": "code",
   "execution_count": 17,
   "id": "c61c0167",
   "metadata": {},
   "outputs": [],
   "source": [
    "adult['occupation'].fillna('Other', inplace=True)"
   ]
  },
  {
   "cell_type": "markdown",
   "id": "75369519",
   "metadata": {},
   "source": [
    "We've finished tidying up our data a bit, lets look at our variables and explore their relationship with income. \n",
    "\n",
    "Let's first look at age vs income. "
   ]
  },
  {
   "cell_type": "code",
   "execution_count": 18,
   "id": "ef9bf7eb",
   "metadata": {},
   "outputs": [
    {
     "data": {
      "text/plain": [
       "<AxesSubplot:ylabel='income'>"
      ]
     },
     "execution_count": 18,
     "metadata": {},
     "output_type": "execute_result"
    },
    {
     "data": {
      "image/png": "[encoded data removed]",
      "text/plain": [
       "<Figure size 432x288 with 1 Axes>"
      ]
     },
     "metadata": {},
     "output_type": "display_data"
    }
   ],
   "source": [
    "adult['income'].value_counts().plot.pie(autopct='%.1f%%')"
   ]
  },
  {
   "cell_type": "code",
   "execution_count": 19,
   "id": "3f295774",
   "metadata": {},
   "outputs": [
    {
     "name": "stdout",
     "output_type": "stream",
     "text": [
      "17\n",
      "90\n"
     ]
    }
   ],
   "source": [
    "print(adult['age'].min())\n",
    "print(adult['age'].max())"
   ]
  },
  {
   "cell_type": "code",
   "execution_count": 20,
   "id": "1f9fbf28",
   "metadata": {},
   "outputs": [
    {
     "data": {
      "image/png": "[encoded data removed]",
      "text/plain": [
       "<Figure size 432x288 with 1 Axes>"
      ]
     },
     "metadata": {
      "needs_background": "light"
     },
     "output_type": "display_data"
    }
   ],
   "source": [
    "median1 = adult[adult['income']== '>50K']['age'].median()\n",
    "median2 = adult[adult['income']== '<=50K']['age'].median()\n",
    "\n",
    "plt.hist(adult[adult['income']== '>50K']['age'], color='red', label='>50K', alpha=0.8)\n",
    "plt.hist(adult[adult['income']== '<=50K']['age'], label='<=50K', alpha=0.7)\n",
    "plt.axvline(median1, c='red', linewidth=1.5, label='median>50K')\n",
    "plt.axvline(median2, c='blue', linewidth=1.5, label='median<=50K')\n",
    "\n",
    "plt.legend()\n",
    "\n",
    "plt.show()"
   ]
  },
  {
   "cell_type": "markdown",
   "id": "8e9d2ad8",
   "metadata": {},
   "source": [
    "Already we see big discrepancies between income within the age ranges. We have an age range between 17-90 and theres a massive difference in the income of people who make over >50K and people who make under or equal to <=50K. The median value of people who make under is about 34-35 whereas the median value for people who make over is about 43-44 which is about a 11-12 year age difference between the two. But what is most noteable is that the quantity of people who make under completely outclasses and overlaps the people who make over. And we could kind of see this in our pie chart. The census contains about 76% of people of make under and 24% of people who make over.\n",
    "\n",
    "How can we reduce this quantity differential? \n",
    "\n",
    "Next let's look at some countplots of our data between variables. We see that there is a massive quantity differential so lets see how this holds up within other variables. "
   ]
  },
  {
   "cell_type": "code",
   "execution_count": 29,
   "id": "f077a629",
   "metadata": {},
   "outputs": [
    {
     "data": {
      "image/png": "[encoded data removed]",
      "text/plain": [
       "<Figure size 720x576 with 1 Axes>"
      ]
     },
     "metadata": {
      "needs_background": "light"
     },
     "output_type": "display_data"
    }
   ],
   "source": [
    "fig, ax = plt.subplots(figsize=(10,8))\n",
    "\n",
    "_ = sns.countplot(x='marital-status', hue='income', data=adult, ax=ax)"
   ]
  },
  {
   "cell_type": "code",
   "execution_count": 30,
   "id": "ba3827c9",
   "metadata": {},
   "outputs": [
    {
     "data": {
      "image/png": "[encoded data removed]",
      "text/plain": [
       "<Figure size 720x576 with 1 Axes>"
      ]
     },
     "metadata": {
      "needs_background": "light"
     },
     "output_type": "display_data"
    }
   ],
   "source": [
    "fig, ax = plt.subplots(figsize=(10,8))\n",
    "\n",
    "_ = sns.countplot(x='education', hue='income', data=adult, ax=ax)"
   ]
  },
  {
   "cell_type": "code",
   "execution_count": 39,
   "id": "f83573e0",
   "metadata": {},
   "outputs": [
    {
     "data": {
      "image/png": "[encoded data removed]",
      "text/plain": [
       "<Figure size 720x576 with 1 Axes>"
      ]
     },
     "metadata": {
      "needs_background": "light"
     },
     "output_type": "display_data"
    }
   ],
   "source": [
    "fig, ax = plt.subplots(figsize=(10,8))\n",
    "\n",
    "_ = sns.countplot(x='relationship', hue='income', data=adult, ax=ax)"
   ]
  },
  {
   "cell_type": "markdown",
   "id": "8836a331",
   "metadata": {},
   "source": [
    "So we see a couple common denominators within these graphs. The first couple things we see is in the marital status. There is a large quantity differential again in the under and over 50K category, except for in the Married-civ-spouse portion. The other ones have a common denominator of the person living at home by themselves. Having no support system seems to put you at a disadvantage in making over 50K. Even though some of the other categories such as Married-absent or Separated are still technically married, they don't have a person physically there to support them. Being married with having someone to help support who could be a factor in helping yourself to earn over 50K. We also see this pattern in the relationship countplot. Being a husband or wife increases your chances of making over 50K. Having a child, being unmarried or by yourself in general lowers your chances. \n",
    "\n",
    "We also see the quantity differential in educational levels. However the pattern is much more clear, as you move up in education you maximize your chances in earning more. Masters and Doctorate people have a higher amount of people who make over than they do of people who make under. "
   ]
  },
  {
   "cell_type": "markdown",
   "id": "49806076",
   "metadata": {},
   "source": [
    "Next thing we should look at is workclass and hours per week. Generally the amount of hours you work in a week gives an indication in how much you make, even in the case of salary income. Hourly pay gives you pay the more you work per hour, and salary pay gives you a guaranteed income but it's most likely that you will have to work overtime or more than 40 hours a week on certain weeks depending on the job specifics or certain seasons. For example lawyers might get salary but they work overtime a lot due to cases or workload. So salary gets paid more but they still work more hours in general. "
   ]
  },
  {
   "cell_type": "code",
   "execution_count": 36,
   "id": "d7ec9ccb",
   "metadata": {},
   "outputs": [
    {
     "data": {
      "text/plain": [
       "<AxesSubplot:xlabel='hours-per-week', ylabel='workclass'>"
      ]
     },
     "execution_count": 36,
     "metadata": {},
     "output_type": "execute_result"
    },
    {
     "data": {
      "image/png": "[encoded data removed]",
      "text/plain": [
       "<Figure size 864x720 with 1 Axes>"
      ]
     },
     "metadata": {
      "needs_background": "light"
     },
     "output_type": "display_data"
    }
   ],
   "source": [
    "fig, ax = plt.subplots(figsize=(12,10))\n",
    "\n",
    "sns.boxplot(x='hours-per-week', y='workclass', data=adult, whis=[0,100])"
   ]
  },
  {
   "cell_type": "code",
   "execution_count": 37,
   "id": "6d1896ef",
   "metadata": {},
   "outputs": [
    {
     "data": {
      "image/png": "[encoded data removed]",
      "text/plain": [
       "<Figure size 720x576 with 1 Axes>"
      ]
     },
     "metadata": {
      "needs_background": "light"
     },
     "output_type": "display_data"
    }
   ],
   "source": [
    "fig, ax = plt.subplots(figsize=(10, 8)) \n",
    "\n",
    "_ = sns.countplot(x='workclass', hue='income', data=adult, ax=ax)"
   ]
  },
  {
   "cell_type": "markdown",
   "id": "1e7c8f8b",
   "metadata": {},
   "source": [
    "We see that there is a range of hours that people work in is mostly in the 40-55 area with other being the only one that drops below 40 which could mean part time work or some other reason. In the countplot the highest amount of people who make over 50K is in the private workclass but it also has the largest quantity differential and we want to lower that and see what is our best chances at make over 50K. Gov and Self-emp have the lowest quantity differential. Being self employed has the best chances of giving you over 50K but you will for sure but it makes some sense as self employed also has the highest hourly work range. Gov has an exact range of 40 hours and it also has a decently small quantity differential in income range, which would mean it gives a pretty comfortable and secure life in government work. \n",
    "\n",
    "Let's look at a heatmap correlation of variables really quick. "
   ]
  },
  {
   "cell_type": "code",
   "execution_count": 38,
   "id": "4881e5a9",
   "metadata": {},
   "outputs": [
    {
     "data": {
      "text/plain": [
       "<AxesSubplot:>"
      ]
     },
     "execution_count": 38,
     "metadata": {},
     "output_type": "execute_result"
    },
    {
     "data": {
      "image/png": "[encoded data removed]",
      "text/plain": [
       "<Figure size 432x288 with 2 Axes>"
      ]
     },
     "metadata": {
      "needs_background": "light"
     },
     "output_type": "display_data"
    }
   ],
   "source": [
    "sns.heatmap(adult.corr(), annot=True)"
   ]
  },
  {
   "cell_type": "markdown",
   "id": "29a3b872",
   "metadata": {},
   "source": [
    "We don't see anything of too much importance so we can ignore correlations for now. \n",
    "\n",
    "Let's look at gender and race. "
   ]
  },
  {
   "cell_type": "code",
   "execution_count": 42,
   "id": "226db795",
   "metadata": {},
   "outputs": [
    {
     "data": {
      "text/plain": [
       "<seaborn.axisgrid.FacetGrid at 0x170fc9eefd0>"
      ]
     },
     "execution_count": 42,
     "metadata": {},
     "output_type": "execute_result"
    },
    {
     "data": {
      "image/png": "[encoded data removed]",
      "text/plain": [
       "<Figure size 431.875x360 with 1 Axes>"
      ]
     },
     "metadata": {
      "needs_background": "light"
     },
     "output_type": "display_data"
    }
   ],
   "source": [
    "sns.catplot(data=adult, kind='bar', x='gender', y='age', hue='income')"
   ]
  },
  {
   "cell_type": "code",
   "execution_count": 49,
   "id": "cf037bdc",
   "metadata": {},
   "outputs": [
    {
     "data": {
      "text/plain": [
       "<seaborn.axisgrid.FacetGrid at 0x170fd303b80>"
      ]
     },
     "execution_count": 49,
     "metadata": {},
     "output_type": "execute_result"
    },
    {
     "data": {
      "image/png": "[encoded data removed]",
      "text/plain": [
       "<Figure size 431.85x360 with 1 Axes>"
      ]
     },
     "metadata": {},
     "output_type": "display_data"
    }
   ],
   "source": [
    "sns.set(rc={'figure.figsize':(30,30)})\n",
    "\n",
    "sns.catplot(data=adult, kind='bar', x='race', y='age', hue='income')"
   ]
  },
  {
   "cell_type": "markdown",
   "id": "9b4d40c3",
   "metadata": {},
   "source": [
    "Again we see the correlation in being older increases your age. Despite certain cultural discrepancies such as race or gender mattering in income, we see that being older increases your income, which makes sense. More experiences equals better pay. "
   ]
  },
  {
   "cell_type": "code",
   "execution_count": null,
   "id": "66f3a03b",
   "metadata": {},
   "outputs": [],
   "source": []
  }
 ],
 "metadata": {
  "kernelspec": {
   "display_name": "Python 3 (ipykernel)",
   "language": "python",
   "name": "python3"
  },
  "language_info": {
   "codemirror_mode": {
    "name": "ipython",
    "version": 3
   },
   "file_extension": ".py",
   "mimetype": "text/x-python",
   "name": "python",
   "nbconvert_exporter": "python",
   "pygments_lexer": "ipython3",
   "version": "3.9.7"
  }
 },
 "nbformat": 4,
 "nbformat_minor": 5
}
